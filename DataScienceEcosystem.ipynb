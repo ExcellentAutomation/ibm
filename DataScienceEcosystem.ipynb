{
 "cells": [
  {
   "cell_type": "markdown",
   "id": "7140bb77-5985-4f38-be4a-af90262a1d80",
   "metadata": {},
   "source": [
    "# Data Science Tools and Ecosystem"
   ]
  },
  {
   "cell_type": "markdown",
   "id": "5dc84d6b-24c1-4f45-b4fb-dfbded4d5027",
   "metadata": {},
   "source": [
    "In this notebook, Data Science Tools and Ecosystem are summarized."
   ]
  },
  {
   "cell_type": "markdown",
   "id": "27875da3-df94-44b4-b60a-c9ac7e057e28",
   "metadata": {},
   "source": [
    "**Objectives:**\n",
    "- List popular languages for Data Science\n",
    "- Create a code cell to convert minutes to hours\n",
    "- Create a code cell to multiply and add numbers\n"
   ]
  },
  {
   "cell_type": "markdown",
   "id": "49ba9af8-0f27-4268-b189-c955fc9bd631",
   "metadata": {},
   "source": [
    "Some of the popular languages that Data Scientists use are:\n",
    "1. python\n",
    "2. R\n",
    "3. SQL"
   ]
  },
  {
   "cell_type": "markdown",
   "id": "d38d88fa-44e9-4a5c-a69b-465519570489",
   "metadata": {},
   "source": [
    "Some of the commonly used libraries used by Data Scientists include:\n",
    "1. scala\n",
    "2. ggplot\n",
    "3. matplotlib"
   ]
  },
  {
   "cell_type": "markdown",
   "id": "9eb60ed7-5d86-4940-a2ba-2bba512adf88",
   "metadata": {},
   "source": [
    "| Data Science Tools |\n",
    "| --- |\n",
    "| Juyter Lab |\n",
    "| Anaconda |\n",
    "| R Studio |"
   ]
  },
  {
   "cell_type": "markdown",
   "id": "dfa7c203-f68e-4621-b2d4-a9c8d1a9444e",
   "metadata": {},
   "source": [
    "### Below are a few examples of evaluating arithmetic expressions in Python"
   ]
  },
  {
   "cell_type": "code",
   "execution_count": 2,
   "id": "817e2c9d-88d4-4438-8bd5-f4dce6804f49",
   "metadata": {},
   "outputs": [
    {
     "data": {
      "text/plain": [
       "17"
      ]
     },
     "execution_count": 2,
     "metadata": {},
     "output_type": "execute_result"
    }
   ],
   "source": [
    "# This a simple arithmetic expression to mutiply then add integers\n",
    "(3*4)+5"
   ]
  },
  {
   "cell_type": "code",
   "execution_count": 3,
   "id": "2212e063-c206-4786-8687-a73d58edbf9d",
   "metadata": {},
   "outputs": [
    {
     "data": {
      "text/plain": [
       "3.3333333333333335"
      ]
     },
     "execution_count": 3,
     "metadata": {},
     "output_type": "execute_result"
    }
   ],
   "source": [
    "# This will convert 200 minutes to hours by diving by 60\n",
    "200 / 60"
   ]
  },
  {
   "cell_type": "markdown",
   "id": "f57e481c-ea88-40e8-a66c-0014698e7933",
   "metadata": {},
   "source": [
    "## Author\n",
    "Mendy"
   ]
  },
  {
   "cell_type": "code",
   "execution_count": null,
   "id": "b537b25f-c0b2-4127-be15-3042785f5d32",
   "metadata": {},
   "outputs": [],
   "source": []
  }
 ],
 "metadata": {
  "kernelspec": {
   "display_name": "Python 3 (ipykernel)",
   "language": "python",
   "name": "python3"
  },
  "language_info": {
   "codemirror_mode": {
    "name": "ipython",
    "version": 3
   },
   "file_extension": ".py",
   "mimetype": "text/x-python",
   "name": "python",
   "nbconvert_exporter": "python",
   "pygments_lexer": "ipython3",
   "version": "3.11.7"
  }
 },
 "nbformat": 4,
 "nbformat_minor": 5
}
